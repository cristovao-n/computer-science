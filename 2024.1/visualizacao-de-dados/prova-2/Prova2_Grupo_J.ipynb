{
  "cells": [
    {
      "cell_type": "markdown",
      "source": [
        "Importando bibliotecas necessárias"
      ],
      "metadata": {
        "id": "kTbezBhnK9HA"
      }
    },
    {
      "cell_type": "code",
      "source": [
        "import numpy as np\n",
        "import pandas as pd\n",
        "import matplotlib.pyplot as plt\n",
        "import plotly.express as px\n",
        "import seaborn as sns"
      ],
      "metadata": {
        "id": "wQQ2x84SK-dC"
      },
      "execution_count": 2,
      "outputs": []
    },
    {
      "cell_type": "markdown",
      "source": [
        "Carregando dataset"
      ],
      "metadata": {
        "id": "ECGHLpi_LAag"
      }
    },
    {
      "cell_type": "code",
      "source": [
        "dataset_url = 'https://drive.usercontent.google.com/download?id=11ijjHpIWkZq8_M5ke8VWYvojOhXq1eJU&export=download'\n",
        "dataset = pd.read_csv(dataset_url, delimiter=';')"
      ],
      "metadata": {
        "id": "ZaKb2Y2HLCXu"
      },
      "execution_count": 3,
      "outputs": []
    },
    {
      "cell_type": "markdown",
      "source": [
        "Definindo constantes dos headers dos dados"
      ],
      "metadata": {
        "id": "CU8spxJvNQ9s"
      }
    },
    {
      "cell_type": "code",
      "source": [
        "pais_header = 'Pais'\n",
        "cod_pais_header = 'CodPais'\n",
        "ano_header = 'Ano'\n",
        "regime_politico_header = 'Regime Politico'"
      ],
      "metadata": {
        "id": "enJbB0edNTmn"
      },
      "execution_count": 4,
      "outputs": []
    },
    {
      "cell_type": "markdown",
      "source": [
        "### Visualização 1"
      ],
      "metadata": {
        "id": "BXq8-qsqutcq"
      }
    },
    {
      "cell_type": "code",
      "source": [
        "regimes_por_ano = dataset[[ano_header, regime_politico_header]]\n",
        "\n",
        "cores = {\n",
        "    '0 - Autocracia Fechada': '#FFD700',\n",
        "    '1 - Autocracia Eleitoral': '#1E90FF',\n",
        "    '2 - Democracia Eleitoral': '#7CFC00',\n",
        "    '3 - Democracia Liberal': '#FF4500'\n",
        "}\n",
        "\n",
        "regimes_por_ano['cor'] = regimes_por_ano[regime_politico_header].map(cores)\n",
        "\n",
        "fig = px.parallel_categories(\n",
        "    regimes_por_ano,\n",
        "    dimensions=[regime_politico_header, ano_header],\n",
        "    color='cor'\n",
        ")\n",
        "\n",
        "fig.update_layout(title_text=\"Dinâmica de transformação de regimes políticos no mundo\")\n",
        "\n",
        "fig.show()"
      ],
      "metadata": {
        "colab": {
          "base_uri": "https://localhost:8080/",
          "height": 646
        },
        "id": "pwOHEeMUh6D-",
        "outputId": "8297744b-a87c-4d72-ceb9-7a9665eeacfb"
      },
      "execution_count": 5,
      "outputs": [
        {
          "output_type": "stream",
          "name": "stderr",
          "text": [
            "<ipython-input-5-6435dd40a955>:10: SettingWithCopyWarning: \n",
            "A value is trying to be set on a copy of a slice from a DataFrame.\n",
            "Try using .loc[row_indexer,col_indexer] = value instead\n",
            "\n",
            "See the caveats in the documentation: https://pandas.pydata.org/pandas-docs/stable/user_guide/indexing.html#returning-a-view-versus-a-copy\n",
            "  regimes_por_ano['cor'] = regimes_por_ano[regime_politico_header].map(cores)\n"
          ]
        },
        {
          "output_type": "display_data",
          "data": {
            "text/html": [
              "<html>\n",
              "<head><meta charset=\"utf-8\" /></head>\n",
              "<body>\n",
              "    <div>            <script src=\"https://cdnjs.cloudflare.com/ajax/libs/mathjax/2.7.5/MathJax.js?config=TeX-AMS-MML_SVG\"></script><script type=\"text/javascript\">if (window.MathJax && window.MathJax.Hub && window.MathJax.Hub.Config) {window.MathJax.Hub.Config({SVG: {font: \"STIX-Web\"}});}</script>                <script type=\"text/javascript\">window.PlotlyConfig = {MathJaxConfig: 'local'};</script>\n",
              "        <script charset=\"utf-8\" src=\"https://cdn.plot.ly/plotly-2.24.1.min.js\"></script>                <div id=\"1a045f3f-e5fb-4f53-b6dd-0308fb441e4b\" class=\"plotly-graph-div\" style=\"height:525px; width:100%;\"></div>            <script type=\"text/javascript\">                                    window.PLOTLYENV=window.PLOTLYENV || {};                                    if (document.getElementById(\"1a045f3f-e5fb-4f53-b6dd-0308fb441e4b\")) {                    Plotly.newPlot(                        \"1a045f3f-e5fb-4f53-b6dd-0308fb441e4b\",                        [{\"dimensions\":[{\"label\":\"Regime Politico\",\"values\":[\"1 - Autocracia Eleitoral\",\"2 - Democracia Eleitoral\",\"1 - Autocracia Eleitoral\",\"1 - Autocracia Eleitoral\",\"2 - Democracia Eleitoral\",\"2 - Democracia Eleitoral\",\"3 - Democracia Liberal\",\"3 - Democracia Liberal\",\"1 - Autocracia Eleitoral\",\"0 - Autocracia Fechada\",\"1 - Autocracia Eleitoral\",\"3 - Democracia Liberal\",\"1 - Autocracia Eleitoral\",\"3 - Democracia Liberal\",\"1 - Autocracia Eleitoral\",\"2 - Democracia Eleitoral\",\"1 - Autocracia Eleitoral\",\"2 - Democracia Eleitoral\",\"3 - Democracia Liberal\",\"2 - Democracia Eleitoral\",\"2 - Democracia Eleitoral\",\"2 - Democracia Eleitoral\",\"1 - Autocracia Eleitoral\",\"1 - Autocracia Eleitoral\",\"1 - Autocracia Eleitoral\",\"2 - Democracia Eleitoral\",\"2 - Democracia Eleitoral\",\"1 - Autocracia Eleitoral\",\"1 - Autocracia Eleitoral\",\"2 - Democracia Eleitoral\",\"0 - Autocracia Fechada\",\"2 - Democracia Eleitoral\",\"1 - Autocracia Eleitoral\",\"1 - Autocracia Eleitoral\",\"3 - Democracia Liberal\",\"1 - Autocracia Eleitoral\",\"2 - Democracia Eleitoral\",\"0 - Autocracia Fechada\",\"3 - Democracia Liberal\",\"2 - Democracia Eleitoral\",\"1 - Autocracia Eleitoral\",\"3 - Democracia Liberal\",\"1 - Autocracia Eleitoral\",\"2 - Democracia Eleitoral\",\"2 - Democracia Eleitoral\",\"2 - Democracia Eleitoral\",\"1 - Autocracia Eleitoral\",\"2 - Democracia Eleitoral\",\"1 - Autocracia Eleitoral\",\"0 - Autocracia Fechada\",\"3 - Democracia Liberal\",\"0 - Autocracia Fechada\",\"1 - Autocracia Eleitoral\",\"1 - Autocracia Eleitoral\",\"3 - Democracia Liberal\",\"3 - Democracia Liberal\",\"1 - Autocracia Eleitoral\",\"1 - Autocracia Eleitoral\",\"2 - Democracia Eleitoral\",\"3 - Democracia Liberal\",\"2 - Democracia Eleitoral\",\"3 - Democracia Liberal\",\"2 - Democracia Eleitoral\",\"1 - Autocracia Eleitoral\",\"2 - Democracia Eleitoral\",\"2 - Democracia Eleitoral\",\"1 - Autocracia Eleitoral\",\"1 - Autocracia Eleitoral\",\"0 - Autocracia Fechada\",\"1 - Autocracia Eleitoral\",\"3 - Democracia Liberal\",\"1 - Autocracia Eleitoral\",\"2 - Democracia Eleitoral\",\"1 - Autocracia Eleitoral\",\"1 - Autocracia Eleitoral\",\"3 - Democracia Liberal\",\"3 - Democracia Liberal\",\"3 - Democracia Liberal\",\"2 - Democracia Eleitoral\",\"3 - Democracia Liberal\",\"0 - Autocracia Fechada\",\"1 - Autocracia Eleitoral\",\"1 - Autocracia Eleitoral\",\"2 - Democracia Eleitoral\",\"1 - Autocracia Eleitoral\",\"1 - Autocracia Eleitoral\",\"0 - Autocracia Fechada\",\"3 - Democracia Liberal\",\"1 - Autocracia Eleitoral\",\"2 - Democracia Eleitoral\",\"2 - Democracia Eleitoral\",\"0 - Autocracia Fechada\",\"2 - Democracia Eleitoral\",\"3 - Democracia Liberal\",\"2 - Democracia Eleitoral\",\"2 - Democracia Eleitoral\",\"1 - Autocracia Eleitoral\",\"2 - Democracia Eleitoral\",\"0 - Autocracia Fechada\",\"2 - Democracia Eleitoral\",\"1 - Autocracia Eleitoral\",\"2 - Democracia Eleitoral\",\"2 - Democracia Eleitoral\",\"2 - Democracia Eleitoral\",\"2 - Democracia Eleitoral\",\"1 - Autocracia Eleitoral\",\"0 - Autocracia Fechada\",\"1 - Autocracia Eleitoral\",\"1 - Autocracia Eleitoral\",\"2 - Democracia Eleitoral\",\"2 - Democracia Eleitoral\",\"3 - Democracia Liberal\",\"3 - Democracia Liberal\",\"1 - Autocracia Eleitoral\",\"2 - Democracia Eleitoral\",\"2 - Democracia Eleitoral\",\"0 - Autocracia Fechada\",\"2 - Democracia Eleitoral\",\"3 - Democracia Liberal\",\"0 - Autocracia Fechada\",\"1 - Autocracia Eleitoral\",\"0 - Autocracia Fechada\",\"1 - Autocracia Eleitoral\",\"2 - Democracia Eleitoral\",\"1 - Autocracia Eleitoral\",\"2 - Democracia Eleitoral\",\"2 - Democracia Eleitoral\",\"1 - Autocracia Eleitoral\",\"2 - Democracia Eleitoral\",\"3 - Democracia Liberal\",\"0 - Autocracia Fechada\",\"2 - Democracia Eleitoral\",\"1 - Autocracia Eleitoral\",\"1 - Autocracia Eleitoral\",\"2 - Democracia Eleitoral\",\"0 - Autocracia Fechada\",\"2 - Democracia Eleitoral\",\"1 - Autocracia Eleitoral\",\"3 - Democracia Liberal\",\"2 - Democracia Eleitoral\",\"1 - Autocracia Eleitoral\",\"2 - Democracia Eleitoral\",\"3 - Democracia Liberal\",\"2 - Democracia Eleitoral\",\"0 - Autocracia Fechada\",\"1 - Autocracia Eleitoral\",\"2 - Democracia Eleitoral\",\"3 - Democracia Liberal\",\"0 - Autocracia Fechada\",\"3 - Democracia Liberal\",\"2 - Democracia Eleitoral\",\"0 - Autocracia Fechada\",\"2 - Democracia Eleitoral\",\"3 - Democracia Liberal\",\"3 - Democracia Liberal\",\"0 - Autocracia Fechada\",\"3 - Democracia Liberal\",\"1 - Autocracia Eleitoral\",\"1 - Autocracia Eleitoral\",\"0 - Autocracia Fechada\",\"1 - Autocracia Eleitoral\",\"3 - Democracia Liberal\",\"2 - Democracia Eleitoral\",\"1 - Autocracia Eleitoral\",\"1 - Autocracia Eleitoral\",\"1 - Autocracia Eleitoral\",\"2 - Democracia Eleitoral\",\"0 - Autocracia Fechada\",\"3 - Democracia Liberal\",\"3 - Democracia Liberal\",\"3 - Democracia Liberal\",\"1 - Autocracia Eleitoral\",\"2 - Democracia Eleitoral\",\"1 - Autocracia Eleitoral\",\"0 - Autocracia Fechada\",\"0 - Autocracia Fechada\",\"1 - Autocracia Eleitoral\",\"1 - Autocracia Eleitoral\",\"1 - Autocracia Eleitoral\",\"0 - Autocracia Fechada\",\"1 - Autocracia Eleitoral\",\"1 - Autocracia Eleitoral\",\"0 - Autocracia Fechada\",\"2 - Democracia Eleitoral\",\"1 - Autocracia Eleitoral\",\"3 - Democracia Liberal\",\"3 - Democracia Liberal\",\"1 - Autocracia Eleitoral\",\"0 - Autocracia Fechada\",\"2 - Democracia Eleitoral\",\"2 - Democracia Eleitoral\",\"1 - Autocracia Eleitoral\",\"3 - Democracia Liberal\",\"2 - Democracia Eleitoral\",\"0 - Autocracia Fechada\",\"2 - Democracia Eleitoral\",\"2 - Democracia Eleitoral\",\"3 - Democracia Liberal\",\"2 - Democracia Eleitoral\",\"2 - Democracia Eleitoral\",\"2 - Democracia Eleitoral\",\"0 - Autocracia Fechada\",\"1 - Autocracia Eleitoral\",\"1 - Autocracia Eleitoral\",\"3 - Democracia Liberal\",\"2 - Democracia Eleitoral\",\"1 - Autocracia Eleitoral\",\"1 - Autocracia Eleitoral\",\"3 - Democracia Liberal\",\"0 - Autocracia Fechada\",\"2 - Democracia Eleitoral\",\"0 - Autocracia Fechada\",\"0 - Autocracia Fechada\",\"3 - Democracia Liberal\",\"1 - Autocracia Eleitoral\",\"2 - Democracia Eleitoral\",\"0 - Autocracia Fechada\",\"2 - Democracia Eleitoral\",\"3 - Democracia Liberal\",\"0 - Autocracia Fechada\",\"3 - Democracia Liberal\",\"1 - Autocracia Eleitoral\",\"2 - Democracia Eleitoral\",\"0 - Autocracia Fechada\",\"2 - Democracia Eleitoral\",\"1 - Autocracia Eleitoral\",\"2 - Democracia Eleitoral\",\"1 - Autocracia Eleitoral\",\"0 - Autocracia Fechada\",\"3 - Democracia Liberal\",\"0 - Autocracia Fechada\",\"1 - Autocracia Eleitoral\",\"0 - Autocracia Fechada\",\"3 - Democracia Liberal\",\"3 - Democracia Liberal\",\"1 - Autocracia Eleitoral\",\"1 - Autocracia Eleitoral\",\"1 - Autocracia Eleitoral\",\"3 - Democracia Liberal\",\"2 - Democracia Eleitoral\",\"3 - Democracia Liberal\",\"2 - Democracia Eleitoral\",\"1 - Autocracia Eleitoral\",\"1 - Autocracia Eleitoral\",\"2 - Democracia Eleitoral\",\"1 - Autocracia Eleitoral\",\"2 - Democracia Eleitoral\",\"0 - Autocracia Fechada\",\"3 - Democracia Liberal\",\"3 - Democracia Liberal\",\"2 - Democracia Eleitoral\",\"2 - Democracia Eleitoral\",\"1 - Autocracia Eleitoral\",\"0 - Autocracia Fechada\",\"3 - Democracia Liberal\",\"3 - Democracia Liberal\",\"3 - Democracia Liberal\",\"2 - Democracia Eleitoral\",\"3 - Democracia Liberal\",\"0 - Autocracia Fechada\",\"1 - Autocracia Eleitoral\",\"1 - Autocracia Eleitoral\",\"0 - Autocracia Fechada\",\"1 - Autocracia Eleitoral\",\"1 - Autocracia Eleitoral\",\"0 - Autocracia Fechada\",\"2 - Democracia Eleitoral\",\"1 - Autocracia Eleitoral\",\"0 - Autocracia Fechada\",\"1 - Autocracia Eleitoral\",\"0 - Autocracia Fechada\",\"3 - Democracia Liberal\",\"3 - Democracia Liberal\",\"2 - Democracia Eleitoral\",\"1 - Autocracia Eleitoral\",\"1 - Autocracia Eleitoral\",\"1 - Autocracia Eleitoral\",\"2 - Democracia Eleitoral\",\"2 - Democracia Eleitoral\",\"1 - Autocracia Eleitoral\",\"3 - Democracia Liberal\",\"2 - Democracia Eleitoral\",\"2 - Democracia Eleitoral\",\"2 - Democracia Eleitoral\",\"1 - Autocracia Eleitoral\",\"0 - Autocracia Fechada\",\"1 - Autocracia Eleitoral\",\"0 - Autocracia Fechada\",\"2 - Democracia Eleitoral\",\"1 - Autocracia Eleitoral\",\"3 - Democracia Liberal\",\"3 - Democracia Liberal\",\"2 - Democracia Eleitoral\",\"2 - Democracia Eleitoral\",\"1 - Autocracia Eleitoral\",\"0 - Autocracia Fechada\",\"1 - Autocracia Eleitoral\",\"3 - Democracia Liberal\",\"0 - Autocracia Fechada\",\"0 - Autocracia Fechada\",\"1 - Autocracia Eleitoral\",\"2 - Democracia Eleitoral\",\"2 - Democracia Eleitoral\",\"2 - Democracia Eleitoral\",\"1 - Autocracia Eleitoral\",\"2 - Democracia Eleitoral\",\"3 - Democracia Liberal\",\"3 - Democracia Liberal\",\"0 - Autocracia Fechada\",\"2 - Democracia Eleitoral\",\"1 - Autocracia Eleitoral\",\"0 - Autocracia Fechada\",\"2 - Democracia Eleitoral\",\"0 - Autocracia Fechada\",\"2 - Democracia Eleitoral\",\"1 - Autocracia Eleitoral\",\"1 - Autocracia Eleitoral\",\"0 - Autocracia Fechada\",\"1 - Autocracia Eleitoral\",\"3 - Democracia Liberal\",\"3 - Democracia Liberal\",\"1 - Autocracia Eleitoral\",\"0 - Autocracia Fechada\",\"0 - Autocracia Fechada\",\"3 - Democracia Liberal\",\"3 - Democracia Liberal\",\"1 - Autocracia Eleitoral\",\"3 - Democracia Liberal\",\"1 - Autocracia Eleitoral\",\"1 - Autocracia Eleitoral\",\"2 - Democracia Eleitoral\",\"3 - Democracia Liberal\",\"3 - Democracia Liberal\",\"1 - Autocracia Eleitoral\",\"3 - Democracia Liberal\",\"1 - Autocracia Eleitoral\",\"1 - Autocracia Eleitoral\",\"2 - Democracia Eleitoral\",\"1 - Autocracia Eleitoral\",\"2 - Democracia Eleitoral\",\"1 - Autocracia Eleitoral\",\"2 - Democracia Eleitoral\",\"0 - Autocracia Fechada\",\"1 - Autocracia Eleitoral\",\"1 - Autocracia Eleitoral\",\"0 - Autocracia Fechada\",\"3 - Democracia Liberal\",\"3 - Democracia Liberal\",\"3 - Democracia Liberal\",\"1 - Autocracia Eleitoral\",\"2 - Democracia Eleitoral\",\"2 - Democracia Eleitoral\",\"0 - Autocracia Fechada\",\"1 - Autocracia Eleitoral\",\"1 - Autocracia Eleitoral\",\"1 - Autocracia Eleitoral\",\"1 - Autocracia Eleitoral\",\"0 - Autocracia Fechada\",\"0 - Autocracia Fechada\",\"0 - Autocracia Fechada\",\"0 - Autocracia Fechada\",\"0 - Autocracia Fechada\",\"0 - Autocracia Fechada\",\"3 - Democracia Liberal\",\"3 - Democracia Liberal\",\"0 - Autocracia Fechada\",\"0 - Autocracia Fechada\",\"1 - Autocracia Eleitoral\",\"2 - Democracia Eleitoral\",\"0 - Autocracia Fechada\",\"3 - Democracia Liberal\",\"0 - Autocracia Fechada\",\"0 - Autocracia Fechada\",\"0 - Autocracia Fechada\",\"0 - Autocracia Fechada\",\"2 - Democracia Eleitoral\",\"1 - Autocracia Eleitoral\",\"0 - Autocracia Fechada\",\"0 - Autocracia Fechada\",\"0 - Autocracia Fechada\",\"0 - Autocracia Fechada\",\"1 - Autocracia Eleitoral\",\"3 - Democracia Liberal\",\"1 - Autocracia Eleitoral\",\"0 - Autocracia Fechada\",\"0 - Autocracia Fechada\",\"0 - Autocracia Fechada\",\"0 - Autocracia Fechada\",\"1 - Autocracia Eleitoral\",\"0 - Autocracia Fechada\",\"0 - Autocracia Fechada\",\"2 - Democracia Eleitoral\",\"0 - Autocracia Fechada\",\"0 - Autocracia Fechada\",\"0 - Autocracia Fechada\",\"2 - Democracia Eleitoral\",\"0 - Autocracia Fechada\",\"0 - Autocracia Fechada\",\"3 - Democracia Liberal\",\"1 - Autocracia Eleitoral\",\"1 - Autocracia Eleitoral\",\"0 - Autocracia Fechada\",\"0 - Autocracia Fechada\",\"2 - Democracia Eleitoral\",\"1 - Autocracia Eleitoral\",\"0 - Autocracia Fechada\",\"0 - Autocracia Fechada\",\"0 - Autocracia Fechada\",\"0 - Autocracia Fechada\",\"0 - Autocracia Fechada\",\"0 - Autocracia Fechada\",\"2 - Democracia Eleitoral\",\"3 - Democracia Liberal\",\"3 - Democracia Liberal\",\"0 - Autocracia Fechada\",\"1 - Autocracia Eleitoral\",\"0 - Autocracia Fechada\",\"2 - Democracia Eleitoral\",\"3 - Democracia Liberal\",\"1 - Autocracia Eleitoral\",\"0 - Autocracia Fechada\",\"0 - Autocracia Fechada\",\"1 - Autocracia Eleitoral\",\"1 - Autocracia Eleitoral\",\"0 - Autocracia Fechada\",\"0 - Autocracia Fechada\",\"0 - Autocracia Fechada\",\"3 - Democracia Liberal\",\"2 - Democracia Eleitoral\",\"1 - Autocracia Eleitoral\",\"0 - Autocracia Fechada\",\"0 - Autocracia Fechada\",\"3 - Democracia Liberal\",\"3 - Democracia Liberal\",\"3 - Democracia Liberal\",\"2 - Democracia Eleitoral\",\"3 - Democracia Liberal\",\"0 - Autocracia Fechada\",\"0 - Autocracia Fechada\",\"1 - Autocracia Eleitoral\",\"0 - Autocracia Fechada\",\"0 - Autocracia Fechada\",\"0 - Autocracia Fechada\",\"0 - Autocracia Fechada\",\"1 - Autocracia Eleitoral\",\"0 - Autocracia Fechada\",\"0 - Autocracia Fechada\",\"0 - Autocracia Fechada\",\"0 - Autocracia Fechada\",\"3 - Democracia Liberal\",\"1 - Autocracia Eleitoral\",\"1 - Autocracia Eleitoral\",\"1 - Autocracia Eleitoral\",\"1 - Autocracia Eleitoral\",\"0 - Autocracia Fechada\",\"2 - Democracia Eleitoral\",\"0 - Autocracia Fechada\",\"2 - Democracia Eleitoral\",\"1 - Autocracia Eleitoral\",\"0 - Autocracia Fechada\",\"0 - Autocracia Fechada\",\"0 - Autocracia Fechada\",\"0 - Autocracia Fechada\",\"0 - Autocracia Fechada\",\"0 - Autocracia Fechada\",\"0 - Autocracia Fechada\",\"3 - Democracia Liberal\",\"3 - Democracia Liberal\",\"0 - Autocracia Fechada\",\"0 - Autocracia Fechada\",\"1 - Autocracia Eleitoral\",\"0 - Autocracia Fechada\",\"0 - Autocracia Fechada\",\"3 - Democracia Liberal\",\"0 - Autocracia Fechada\",\"0 - Autocracia Fechada\",\"0 - Autocracia Fechada\",\"1 - Autocracia Eleitoral\",\"2 - Democracia Eleitoral\",\"1 - Autocracia Eleitoral\",\"1 - Autocracia Eleitoral\",\"1 - Autocracia Eleitoral\",\"0 - Autocracia Fechada\",\"3 - Democracia Liberal\",\"0 - Autocracia Fechada\",\"0 - Autocracia Fechada\",\"0 - Autocracia Fechada\",\"0 - Autocracia Fechada\",\"0 - Autocracia Fechada\",\"0 - Autocracia Fechada\",\"1 - Autocracia Eleitoral\",\"0 - Autocracia Fechada\",\"1 - Autocracia Eleitoral\",\"1 - Autocracia Eleitoral\",\"1 - Autocracia Eleitoral\",\"0 - Autocracia Fechada\",\"0 - Autocracia Fechada\",\"2 - Democracia Eleitoral\",\"0 - Autocracia Fechada\",\"1 - Autocracia Eleitoral\",\"1 - Autocracia Eleitoral\",\"1 - Autocracia Eleitoral\",\"2 - Democracia Eleitoral\",\"2 - Democracia Eleitoral\",\"1 - Autocracia Eleitoral\",\"0 - Autocracia Fechada\",\"3 - Democracia Liberal\",\"3 - Democracia Liberal\",\"1 - Autocracia Eleitoral\",\"0 - Autocracia Fechada\",\"0 - Autocracia Fechada\",\"1 - Autocracia Eleitoral\",\"1 - Autocracia Eleitoral\",\"1 - Autocracia Eleitoral\",\"2 - Democracia Eleitoral\",\"1 - Autocracia Eleitoral\",\"1 - Autocracia Eleitoral\",\"0 - Autocracia Fechada\",\"1 - Autocracia Eleitoral\",\"0 - Autocracia Fechada\",\"0 - Autocracia Fechada\",\"3 - Democracia Liberal\",\"3 - Democracia Liberal\",\"0 - Autocracia Fechada\",\"0 - Autocracia Fechada\",\"2 - Democracia Eleitoral\",\"2 - Democracia Eleitoral\",\"1 - Autocracia Eleitoral\",\"3 - Democracia Liberal\",\"0 - Autocracia Fechada\",\"0 - Autocracia Fechada\",\"1 - Autocracia Eleitoral\",\"0 - Autocracia Fechada\",\"1 - Autocracia Eleitoral\"]},{\"label\":\"Ano\",\"values\":[2020,2020,2020,2020,2020,2020,2020,2020,2020,2020,2020,2020,2020,2020,2020,2020,2020,2020,2020,2020,2020,2020,2020,2020,2020,2020,2020,2020,2020,2020,2020,2020,2020,2020,2020,2020,2020,2020,2020,2020,2020,2020,2020,2020,2020,2020,2020,2020,2020,2020,2020,2020,2020,2020,2020,2020,2020,2020,2020,2020,2020,2020,2020,2020,2020,2020,2020,2020,2020,2020,2020,2020,2020,2020,2020,2020,2020,2020,2020,2020,2020,2020,2020,2020,2020,2020,2020,2020,2020,2020,2020,2020,2020,2020,2020,2020,2020,2020,2020,2020,2020,2020,2020,2020,2020,2020,2020,2020,2020,2020,2020,2020,2020,2020,2020,2020,2020,2020,2020,2020,2020,2020,2020,2020,2020,2020,2020,2020,2020,2020,2020,2020,2020,2020,2020,2020,2020,2020,2020,2020,2020,2020,2020,2020,2020,2020,2020,2020,2020,2020,2020,2020,2020,2020,2020,2020,2020,2020,2020,2020,2020,2020,2020,2020,2020,2020,2020,2020,2020,2020,2020,2020,2020,2020,2020,2020,2020,2020,2020,2000,2000,2000,2000,2000,2000,2000,2000,2000,2000,2000,2000,2000,2000,2000,2000,2000,2000,2000,2000,2000,2000,2000,2000,2000,2000,2000,2000,2000,2000,2000,2000,2000,2000,2000,2000,2000,2000,2000,2000,2000,2000,2000,2000,2000,2000,2000,2000,2000,2000,2000,2000,2000,2000,2000,2000,2000,2000,2000,2000,2000,2000,2000,2000,2000,2000,2000,2000,2000,2000,2000,2000,2000,2000,2000,2000,2000,2000,2000,2000,2000,2000,2000,2000,2000,2000,2000,2000,2000,2000,2000,2000,2000,2000,2000,2000,2000,2000,2000,2000,2000,2000,2000,2000,2000,2000,2000,2000,2000,2000,2000,2000,2000,2000,2000,2000,2000,2000,2000,2000,2000,2000,2000,2000,2000,2000,2000,2000,2000,2000,2000,2000,2000,2000,2000,2000,2000,2000,2000,2000,2000,2000,2000,2000,2000,2000,2000,2000,2000,2000,2000,2000,2000,2000,2000,2000,2000,2000,2000,2000,2000,2000,2000,2000,2000,2000,2000,2000,2000,2000,2000,2000,2000,2000,2000,2000,2000,2000,1980,1980,1980,1980,1980,1980,1980,1980,1980,1980,1980,1980,1980,1980,1980,1980,1980,1980,1980,1980,1980,1980,1980,1980,1980,1980,1980,1980,1980,1980,1980,1980,1980,1980,1980,1980,1980,1980,1980,1980,1980,1980,1980,1980,1980,1980,1980,1980,1980,1980,1980,1980,1980,1980,1980,1980,1980,1980,1980,1980,1980,1980,1980,1980,1980,1980,1980,1980,1980,1980,1980,1980,1980,1980,1980,1980,1980,1980,1980,1980,1980,1980,1980,1980,1980,1980,1980,1980,1980,1980,1980,1980,1980,1980,1980,1980,1980,1980,1980,1980,1980,1980,1980,1980,1980,1980,1980,1980,1980,1980,1980,1980,1980,1980,1980,1980,1980,1980,1980,1980,1980,1980,1980,1980,1980,1980,1980,1980,1980,1980,1980,1980,1980,1980,1980,1980,1980,1980,1980,1980,1980,1980,1980,1980,1980,1980,1980,1980,1980,1980,1980,1980,1980,1980,1980,1980,1980,1980,1980,1980,1980,1980,1980,1980,1980,1980,1980,1980,1980,1980,1980,1980,1980,1980,1980,1980,1980]}],\"domain\":{\"x\":[0.0,1.0],\"y\":[0.0,1.0]},\"line\":{\"color\":[\"#1E90FF\",\"#7CFC00\",\"#1E90FF\",\"#1E90FF\",\"#7CFC00\",\"#7CFC00\",\"#FF4500\",\"#FF4500\",\"#1E90FF\",\"#FFD700\",\"#1E90FF\",\"#FF4500\",\"#1E90FF\",\"#FF4500\",\"#1E90FF\",\"#7CFC00\",\"#1E90FF\",\"#7CFC00\",\"#FF4500\",\"#7CFC00\",\"#7CFC00\",\"#7CFC00\",\"#1E90FF\",\"#1E90FF\",\"#1E90FF\",\"#7CFC00\",\"#7CFC00\",\"#1E90FF\",\"#1E90FF\",\"#7CFC00\",\"#FFD700\",\"#7CFC00\",\"#1E90FF\",\"#1E90FF\",\"#FF4500\",\"#1E90FF\",\"#7CFC00\",\"#FFD700\",\"#FF4500\",\"#7CFC00\",\"#1E90FF\",\"#FF4500\",\"#1E90FF\",\"#7CFC00\",\"#7CFC00\",\"#7CFC00\",\"#1E90FF\",\"#7CFC00\",\"#1E90FF\",\"#FFD700\",\"#FF4500\",\"#FFD700\",\"#1E90FF\",\"#1E90FF\",\"#FF4500\",\"#FF4500\",\"#1E90FF\",\"#1E90FF\",\"#7CFC00\",\"#FF4500\",\"#7CFC00\",\"#FF4500\",\"#7CFC00\",\"#1E90FF\",\"#7CFC00\",\"#7CFC00\",\"#1E90FF\",\"#1E90FF\",\"#FFD700\",\"#1E90FF\",\"#FF4500\",\"#1E90FF\",\"#7CFC00\",\"#1E90FF\",\"#1E90FF\",\"#FF4500\",\"#FF4500\",\"#FF4500\",\"#7CFC00\",\"#FF4500\",\"#FFD700\",\"#1E90FF\",\"#1E90FF\",\"#7CFC00\",\"#1E90FF\",\"#1E90FF\",\"#FFD700\",\"#FF4500\",\"#1E90FF\",\"#7CFC00\",\"#7CFC00\",\"#FFD700\",\"#7CFC00\",\"#FF4500\",\"#7CFC00\",\"#7CFC00\",\"#1E90FF\",\"#7CFC00\",\"#FFD700\",\"#7CFC00\",\"#1E90FF\",\"#7CFC00\",\"#7CFC00\",\"#7CFC00\",\"#7CFC00\",\"#1E90FF\",\"#FFD700\",\"#1E90FF\",\"#1E90FF\",\"#7CFC00\",\"#7CFC00\",\"#FF4500\",\"#FF4500\",\"#1E90FF\",\"#7CFC00\",\"#7CFC00\",\"#FFD700\",\"#7CFC00\",\"#FF4500\",\"#FFD700\",\"#1E90FF\",\"#FFD700\",\"#1E90FF\",\"#7CFC00\",\"#1E90FF\",\"#7CFC00\",\"#7CFC00\",\"#1E90FF\",\"#7CFC00\",\"#FF4500\",\"#FFD700\",\"#7CFC00\",\"#1E90FF\",\"#1E90FF\",\"#7CFC00\",\"#FFD700\",\"#7CFC00\",\"#1E90FF\",\"#FF4500\",\"#7CFC00\",\"#1E90FF\",\"#7CFC00\",\"#FF4500\",\"#7CFC00\",\"#FFD700\",\"#1E90FF\",\"#7CFC00\",\"#FF4500\",\"#FFD700\",\"#FF4500\",\"#7CFC00\",\"#FFD700\",\"#7CFC00\",\"#FF4500\",\"#FF4500\",\"#FFD700\",\"#FF4500\",\"#1E90FF\",\"#1E90FF\",\"#FFD700\",\"#1E90FF\",\"#FF4500\",\"#7CFC00\",\"#1E90FF\",\"#1E90FF\",\"#1E90FF\",\"#7CFC00\",\"#FFD700\",\"#FF4500\",\"#FF4500\",\"#FF4500\",\"#1E90FF\",\"#7CFC00\",\"#1E90FF\",\"#FFD700\",\"#FFD700\",\"#1E90FF\",\"#1E90FF\",\"#1E90FF\",\"#FFD700\",\"#1E90FF\",\"#1E90FF\",\"#FFD700\",\"#7CFC00\",\"#1E90FF\",\"#FF4500\",\"#FF4500\",\"#1E90FF\",\"#FFD700\",\"#7CFC00\",\"#7CFC00\",\"#1E90FF\",\"#FF4500\",\"#7CFC00\",\"#FFD700\",\"#7CFC00\",\"#7CFC00\",\"#FF4500\",\"#7CFC00\",\"#7CFC00\",\"#7CFC00\",\"#FFD700\",\"#1E90FF\",\"#1E90FF\",\"#FF4500\",\"#7CFC00\",\"#1E90FF\",\"#1E90FF\",\"#FF4500\",\"#FFD700\",\"#7CFC00\",\"#FFD700\",\"#FFD700\",\"#FF4500\",\"#1E90FF\",\"#7CFC00\",\"#FFD700\",\"#7CFC00\",\"#FF4500\",\"#FFD700\",\"#FF4500\",\"#1E90FF\",\"#7CFC00\",\"#FFD700\",\"#7CFC00\",\"#1E90FF\",\"#7CFC00\",\"#1E90FF\",\"#FFD700\",\"#FF4500\",\"#FFD700\",\"#1E90FF\",\"#FFD700\",\"#FF4500\",\"#FF4500\",\"#1E90FF\",\"#1E90FF\",\"#1E90FF\",\"#FF4500\",\"#7CFC00\",\"#FF4500\",\"#7CFC00\",\"#1E90FF\",\"#1E90FF\",\"#7CFC00\",\"#1E90FF\",\"#7CFC00\",\"#FFD700\",\"#FF4500\",\"#FF4500\",\"#7CFC00\",\"#7CFC00\",\"#1E90FF\",\"#FFD700\",\"#FF4500\",\"#FF4500\",\"#FF4500\",\"#7CFC00\",\"#FF4500\",\"#FFD700\",\"#1E90FF\",\"#1E90FF\",\"#FFD700\",\"#1E90FF\",\"#1E90FF\",\"#FFD700\",\"#7CFC00\",\"#1E90FF\",\"#FFD700\",\"#1E90FF\",\"#FFD700\",\"#FF4500\",\"#FF4500\",\"#7CFC00\",\"#1E90FF\",\"#1E90FF\",\"#1E90FF\",\"#7CFC00\",\"#7CFC00\",\"#1E90FF\",\"#FF4500\",\"#7CFC00\",\"#7CFC00\",\"#7CFC00\",\"#1E90FF\",\"#FFD700\",\"#1E90FF\",\"#FFD700\",\"#7CFC00\",\"#1E90FF\",\"#FF4500\",\"#FF4500\",\"#7CFC00\",\"#7CFC00\",\"#1E90FF\",\"#FFD700\",\"#1E90FF\",\"#FF4500\",\"#FFD700\",\"#FFD700\",\"#1E90FF\",\"#7CFC00\",\"#7CFC00\",\"#7CFC00\",\"#1E90FF\",\"#7CFC00\",\"#FF4500\",\"#FF4500\",\"#FFD700\",\"#7CFC00\",\"#1E90FF\",\"#FFD700\",\"#7CFC00\",\"#FFD700\",\"#7CFC00\",\"#1E90FF\",\"#1E90FF\",\"#FFD700\",\"#1E90FF\",\"#FF4500\",\"#FF4500\",\"#1E90FF\",\"#FFD700\",\"#FFD700\",\"#FF4500\",\"#FF4500\",\"#1E90FF\",\"#FF4500\",\"#1E90FF\",\"#1E90FF\",\"#7CFC00\",\"#FF4500\",\"#FF4500\",\"#1E90FF\",\"#FF4500\",\"#1E90FF\",\"#1E90FF\",\"#7CFC00\",\"#1E90FF\",\"#7CFC00\",\"#1E90FF\",\"#7CFC00\",\"#FFD700\",\"#1E90FF\",\"#1E90FF\",\"#FFD700\",\"#FF4500\",\"#FF4500\",\"#FF4500\",\"#1E90FF\",\"#7CFC00\",\"#7CFC00\",\"#FFD700\",\"#1E90FF\",\"#1E90FF\",\"#1E90FF\",\"#1E90FF\",\"#FFD700\",\"#FFD700\",\"#FFD700\",\"#FFD700\",\"#FFD700\",\"#FFD700\",\"#FF4500\",\"#FF4500\",\"#FFD700\",\"#FFD700\",\"#1E90FF\",\"#7CFC00\",\"#FFD700\",\"#FF4500\",\"#FFD700\",\"#FFD700\",\"#FFD700\",\"#FFD700\",\"#7CFC00\",\"#1E90FF\",\"#FFD700\",\"#FFD700\",\"#FFD700\",\"#FFD700\",\"#1E90FF\",\"#FF4500\",\"#1E90FF\",\"#FFD700\",\"#FFD700\",\"#FFD700\",\"#FFD700\",\"#1E90FF\",\"#FFD700\",\"#FFD700\",\"#7CFC00\",\"#FFD700\",\"#FFD700\",\"#FFD700\",\"#7CFC00\",\"#FFD700\",\"#FFD700\",\"#FF4500\",\"#1E90FF\",\"#1E90FF\",\"#FFD700\",\"#FFD700\",\"#7CFC00\",\"#1E90FF\",\"#FFD700\",\"#FFD700\",\"#FFD700\",\"#FFD700\",\"#FFD700\",\"#FFD700\",\"#7CFC00\",\"#FF4500\",\"#FF4500\",\"#FFD700\",\"#1E90FF\",\"#FFD700\",\"#7CFC00\",\"#FF4500\",\"#1E90FF\",\"#FFD700\",\"#FFD700\",\"#1E90FF\",\"#1E90FF\",\"#FFD700\",\"#FFD700\",\"#FFD700\",\"#FF4500\",\"#7CFC00\",\"#1E90FF\",\"#FFD700\",\"#FFD700\",\"#FF4500\",\"#FF4500\",\"#FF4500\",\"#7CFC00\",\"#FF4500\",\"#FFD700\",\"#FFD700\",\"#1E90FF\",\"#FFD700\",\"#FFD700\",\"#FFD700\",\"#FFD700\",\"#1E90FF\",\"#FFD700\",\"#FFD700\",\"#FFD700\",\"#FFD700\",\"#FF4500\",\"#1E90FF\",\"#1E90FF\",\"#1E90FF\",\"#1E90FF\",\"#FFD700\",\"#7CFC00\",\"#FFD700\",\"#7CFC00\",\"#1E90FF\",\"#FFD700\",\"#FFD700\",\"#FFD700\",\"#FFD700\",\"#FFD700\",\"#FFD700\",\"#FFD700\",\"#FF4500\",\"#FF4500\",\"#FFD700\",\"#FFD700\",\"#1E90FF\",\"#FFD700\",\"#FFD700\",\"#FF4500\",\"#FFD700\",\"#FFD700\",\"#FFD700\",\"#1E90FF\",\"#7CFC00\",\"#1E90FF\",\"#1E90FF\",\"#1E90FF\",\"#FFD700\",\"#FF4500\",\"#FFD700\",\"#FFD700\",\"#FFD700\",\"#FFD700\",\"#FFD700\",\"#FFD700\",\"#1E90FF\",\"#FFD700\",\"#1E90FF\",\"#1E90FF\",\"#1E90FF\",\"#FFD700\",\"#FFD700\",\"#7CFC00\",\"#FFD700\",\"#1E90FF\",\"#1E90FF\",\"#1E90FF\",\"#7CFC00\",\"#7CFC00\",\"#1E90FF\",\"#FFD700\",\"#FF4500\",\"#FF4500\",\"#1E90FF\",\"#FFD700\",\"#FFD700\",\"#1E90FF\",\"#1E90FF\",\"#1E90FF\",\"#7CFC00\",\"#1E90FF\",\"#1E90FF\",\"#FFD700\",\"#1E90FF\",\"#FFD700\",\"#FFD700\",\"#FF4500\",\"#FF4500\",\"#FFD700\",\"#FFD700\",\"#7CFC00\",\"#7CFC00\",\"#1E90FF\",\"#FF4500\",\"#FFD700\",\"#FFD700\",\"#1E90FF\",\"#FFD700\",\"#1E90FF\"],\"coloraxis\":\"coloraxis\"},\"name\":\"\",\"type\":\"parcats\"}],                        {\"template\":{\"data\":{\"histogram2dcontour\":[{\"type\":\"histogram2dcontour\",\"colorbar\":{\"outlinewidth\":0,\"ticks\":\"\"},\"colorscale\":[[0.0,\"#0d0887\"],[0.1111111111111111,\"#46039f\"],[0.2222222222222222,\"#7201a8\"],[0.3333333333333333,\"#9c179e\"],[0.4444444444444444,\"#bd3786\"],[0.5555555555555556,\"#d8576b\"],[0.6666666666666666,\"#ed7953\"],[0.7777777777777778,\"#fb9f3a\"],[0.8888888888888888,\"#fdca26\"],[1.0,\"#f0f921\"]]}],\"choropleth\":[{\"type\":\"choropleth\",\"colorbar\":{\"outlinewidth\":0,\"ticks\":\"\"}}],\"histogram2d\":[{\"type\":\"histogram2d\",\"colorbar\":{\"outlinewidth\":0,\"ticks\":\"\"},\"colorscale\":[[0.0,\"#0d0887\"],[0.1111111111111111,\"#46039f\"],[0.2222222222222222,\"#7201a8\"],[0.3333333333333333,\"#9c179e\"],[0.4444444444444444,\"#bd3786\"],[0.5555555555555556,\"#d8576b\"],[0.6666666666666666,\"#ed7953\"],[0.7777777777777778,\"#fb9f3a\"],[0.8888888888888888,\"#fdca26\"],[1.0,\"#f0f921\"]]}],\"heatmap\":[{\"type\":\"heatmap\",\"colorbar\":{\"outlinewidth\":0,\"ticks\":\"\"},\"colorscale\":[[0.0,\"#0d0887\"],[0.1111111111111111,\"#46039f\"],[0.2222222222222222,\"#7201a8\"],[0.3333333333333333,\"#9c179e\"],[0.4444444444444444,\"#bd3786\"],[0.5555555555555556,\"#d8576b\"],[0.6666666666666666,\"#ed7953\"],[0.7777777777777778,\"#fb9f3a\"],[0.8888888888888888,\"#fdca26\"],[1.0,\"#f0f921\"]]}],\"heatmapgl\":[{\"type\":\"heatmapgl\",\"colorbar\":{\"outlinewidth\":0,\"ticks\":\"\"},\"colorscale\":[[0.0,\"#0d0887\"],[0.1111111111111111,\"#46039f\"],[0.2222222222222222,\"#7201a8\"],[0.3333333333333333,\"#9c179e\"],[0.4444444444444444,\"#bd3786\"],[0.5555555555555556,\"#d8576b\"],[0.6666666666666666,\"#ed7953\"],[0.7777777777777778,\"#fb9f3a\"],[0.8888888888888888,\"#fdca26\"],[1.0,\"#f0f921\"]]}],\"contourcarpet\":[{\"type\":\"contourcarpet\",\"colorbar\":{\"outlinewidth\":0,\"ticks\":\"\"}}],\"contour\":[{\"type\":\"contour\",\"colorbar\":{\"outlinewidth\":0,\"ticks\":\"\"},\"colorscale\":[[0.0,\"#0d0887\"],[0.1111111111111111,\"#46039f\"],[0.2222222222222222,\"#7201a8\"],[0.3333333333333333,\"#9c179e\"],[0.4444444444444444,\"#bd3786\"],[0.5555555555555556,\"#d8576b\"],[0.6666666666666666,\"#ed7953\"],[0.7777777777777778,\"#fb9f3a\"],[0.8888888888888888,\"#fdca26\"],[1.0,\"#f0f921\"]]}],\"surface\":[{\"type\":\"surface\",\"colorbar\":{\"outlinewidth\":0,\"ticks\":\"\"},\"colorscale\":[[0.0,\"#0d0887\"],[0.1111111111111111,\"#46039f\"],[0.2222222222222222,\"#7201a8\"],[0.3333333333333333,\"#9c179e\"],[0.4444444444444444,\"#bd3786\"],[0.5555555555555556,\"#d8576b\"],[0.6666666666666666,\"#ed7953\"],[0.7777777777777778,\"#fb9f3a\"],[0.8888888888888888,\"#fdca26\"],[1.0,\"#f0f921\"]]}],\"mesh3d\":[{\"type\":\"mesh3d\",\"colorbar\":{\"outlinewidth\":0,\"ticks\":\"\"}}],\"scatter\":[{\"fillpattern\":{\"fillmode\":\"overlay\",\"size\":10,\"solidity\":0.2},\"type\":\"scatter\"}],\"parcoords\":[{\"type\":\"parcoords\",\"line\":{\"colorbar\":{\"outlinewidth\":0,\"ticks\":\"\"}}}],\"scatterpolargl\":[{\"type\":\"scatterpolargl\",\"marker\":{\"colorbar\":{\"outlinewidth\":0,\"ticks\":\"\"}}}],\"bar\":[{\"error_x\":{\"color\":\"#2a3f5f\"},\"error_y\":{\"color\":\"#2a3f5f\"},\"marker\":{\"line\":{\"color\":\"#E5ECF6\",\"width\":0.5},\"pattern\":{\"fillmode\":\"overlay\",\"size\":10,\"solidity\":0.2}},\"type\":\"bar\"}],\"scattergeo\":[{\"type\":\"scattergeo\",\"marker\":{\"colorbar\":{\"outlinewidth\":0,\"ticks\":\"\"}}}],\"scatterpolar\":[{\"type\":\"scatterpolar\",\"marker\":{\"colorbar\":{\"outlinewidth\":0,\"ticks\":\"\"}}}],\"histogram\":[{\"marker\":{\"pattern\":{\"fillmode\":\"overlay\",\"size\":10,\"solidity\":0.2}},\"type\":\"histogram\"}],\"scattergl\":[{\"type\":\"scattergl\",\"marker\":{\"colorbar\":{\"outlinewidth\":0,\"ticks\":\"\"}}}],\"scatter3d\":[{\"type\":\"scatter3d\",\"line\":{\"colorbar\":{\"outlinewidth\":0,\"ticks\":\"\"}},\"marker\":{\"colorbar\":{\"outlinewidth\":0,\"ticks\":\"\"}}}],\"scattermapbox\":[{\"type\":\"scattermapbox\",\"marker\":{\"colorbar\":{\"outlinewidth\":0,\"ticks\":\"\"}}}],\"scatterternary\":[{\"type\":\"scatterternary\",\"marker\":{\"colorbar\":{\"outlinewidth\":0,\"ticks\":\"\"}}}],\"scattercarpet\":[{\"type\":\"scattercarpet\",\"marker\":{\"colorbar\":{\"outlinewidth\":0,\"ticks\":\"\"}}}],\"carpet\":[{\"aaxis\":{\"endlinecolor\":\"#2a3f5f\",\"gridcolor\":\"white\",\"linecolor\":\"white\",\"minorgridcolor\":\"white\",\"startlinecolor\":\"#2a3f5f\"},\"baxis\":{\"endlinecolor\":\"#2a3f5f\",\"gridcolor\":\"white\",\"linecolor\":\"white\",\"minorgridcolor\":\"white\",\"startlinecolor\":\"#2a3f5f\"},\"type\":\"carpet\"}],\"table\":[{\"cells\":{\"fill\":{\"color\":\"#EBF0F8\"},\"line\":{\"color\":\"white\"}},\"header\":{\"fill\":{\"color\":\"#C8D4E3\"},\"line\":{\"color\":\"white\"}},\"type\":\"table\"}],\"barpolar\":[{\"marker\":{\"line\":{\"color\":\"#E5ECF6\",\"width\":0.5},\"pattern\":{\"fillmode\":\"overlay\",\"size\":10,\"solidity\":0.2}},\"type\":\"barpolar\"}],\"pie\":[{\"automargin\":true,\"type\":\"pie\"}]},\"layout\":{\"autotypenumbers\":\"strict\",\"colorway\":[\"#636efa\",\"#EF553B\",\"#00cc96\",\"#ab63fa\",\"#FFA15A\",\"#19d3f3\",\"#FF6692\",\"#B6E880\",\"#FF97FF\",\"#FECB52\"],\"font\":{\"color\":\"#2a3f5f\"},\"hovermode\":\"closest\",\"hoverlabel\":{\"align\":\"left\"},\"paper_bgcolor\":\"white\",\"plot_bgcolor\":\"#E5ECF6\",\"polar\":{\"bgcolor\":\"#E5ECF6\",\"angularaxis\":{\"gridcolor\":\"white\",\"linecolor\":\"white\",\"ticks\":\"\"},\"radialaxis\":{\"gridcolor\":\"white\",\"linecolor\":\"white\",\"ticks\":\"\"}},\"ternary\":{\"bgcolor\":\"#E5ECF6\",\"aaxis\":{\"gridcolor\":\"white\",\"linecolor\":\"white\",\"ticks\":\"\"},\"baxis\":{\"gridcolor\":\"white\",\"linecolor\":\"white\",\"ticks\":\"\"},\"caxis\":{\"gridcolor\":\"white\",\"linecolor\":\"white\",\"ticks\":\"\"}},\"coloraxis\":{\"colorbar\":{\"outlinewidth\":0,\"ticks\":\"\"}},\"colorscale\":{\"sequential\":[[0.0,\"#0d0887\"],[0.1111111111111111,\"#46039f\"],[0.2222222222222222,\"#7201a8\"],[0.3333333333333333,\"#9c179e\"],[0.4444444444444444,\"#bd3786\"],[0.5555555555555556,\"#d8576b\"],[0.6666666666666666,\"#ed7953\"],[0.7777777777777778,\"#fb9f3a\"],[0.8888888888888888,\"#fdca26\"],[1.0,\"#f0f921\"]],\"sequentialminus\":[[0.0,\"#0d0887\"],[0.1111111111111111,\"#46039f\"],[0.2222222222222222,\"#7201a8\"],[0.3333333333333333,\"#9c179e\"],[0.4444444444444444,\"#bd3786\"],[0.5555555555555556,\"#d8576b\"],[0.6666666666666666,\"#ed7953\"],[0.7777777777777778,\"#fb9f3a\"],[0.8888888888888888,\"#fdca26\"],[1.0,\"#f0f921\"]],\"diverging\":[[0,\"#8e0152\"],[0.1,\"#c51b7d\"],[0.2,\"#de77ae\"],[0.3,\"#f1b6da\"],[0.4,\"#fde0ef\"],[0.5,\"#f7f7f7\"],[0.6,\"#e6f5d0\"],[0.7,\"#b8e186\"],[0.8,\"#7fbc41\"],[0.9,\"#4d9221\"],[1,\"#276419\"]]},\"xaxis\":{\"gridcolor\":\"white\",\"linecolor\":\"white\",\"ticks\":\"\",\"title\":{\"standoff\":15},\"zerolinecolor\":\"white\",\"automargin\":true,\"zerolinewidth\":2},\"yaxis\":{\"gridcolor\":\"white\",\"linecolor\":\"white\",\"ticks\":\"\",\"title\":{\"standoff\":15},\"zerolinecolor\":\"white\",\"automargin\":true,\"zerolinewidth\":2},\"scene\":{\"xaxis\":{\"backgroundcolor\":\"#E5ECF6\",\"gridcolor\":\"white\",\"linecolor\":\"white\",\"showbackground\":true,\"ticks\":\"\",\"zerolinecolor\":\"white\",\"gridwidth\":2},\"yaxis\":{\"backgroundcolor\":\"#E5ECF6\",\"gridcolor\":\"white\",\"linecolor\":\"white\",\"showbackground\":true,\"ticks\":\"\",\"zerolinecolor\":\"white\",\"gridwidth\":2},\"zaxis\":{\"backgroundcolor\":\"#E5ECF6\",\"gridcolor\":\"white\",\"linecolor\":\"white\",\"showbackground\":true,\"ticks\":\"\",\"zerolinecolor\":\"white\",\"gridwidth\":2}},\"shapedefaults\":{\"line\":{\"color\":\"#2a3f5f\"}},\"annotationdefaults\":{\"arrowcolor\":\"#2a3f5f\",\"arrowhead\":0,\"arrowwidth\":1},\"geo\":{\"bgcolor\":\"white\",\"landcolor\":\"#E5ECF6\",\"subunitcolor\":\"white\",\"showland\":true,\"showlakes\":true,\"lakecolor\":\"white\"},\"title\":{\"x\":0.05},\"mapbox\":{\"style\":\"light\"}}},\"coloraxis\":{\"colorbar\":{\"title\":{\"text\":\"cor\"}},\"colorscale\":[[0.0,\"#0d0887\"],[0.1111111111111111,\"#46039f\"],[0.2222222222222222,\"#7201a8\"],[0.3333333333333333,\"#9c179e\"],[0.4444444444444444,\"#bd3786\"],[0.5555555555555556,\"#d8576b\"],[0.6666666666666666,\"#ed7953\"],[0.7777777777777778,\"#fb9f3a\"],[0.8888888888888888,\"#fdca26\"],[1.0,\"#f0f921\"]]},\"legend\":{\"tracegroupgap\":0},\"margin\":{\"t\":60},\"title\":{\"text\":\"Din\\u00e2mica de transforma\\u00e7\\u00e3o de regimes pol\\u00edticos no mundo\"}},                        {\"responsive\": true}                    ).then(function(){\n",
              "                            \n",
              "var gd = document.getElementById('1a045f3f-e5fb-4f53-b6dd-0308fb441e4b');\n",
              "var x = new MutationObserver(function (mutations, observer) {{\n",
              "        var display = window.getComputedStyle(gd).display;\n",
              "        if (!display || display === 'none') {{\n",
              "            console.log([gd, 'removed!']);\n",
              "            Plotly.purge(gd);\n",
              "            observer.disconnect();\n",
              "        }}\n",
              "}});\n",
              "\n",
              "// Listen for the removal of the full notebook cells\n",
              "var notebookContainer = gd.closest('#notebook-container');\n",
              "if (notebookContainer) {{\n",
              "    x.observe(notebookContainer, {childList: true});\n",
              "}}\n",
              "\n",
              "// Listen for the clearing of the current output cell\n",
              "var outputEl = gd.closest('.output');\n",
              "if (outputEl) {{\n",
              "    x.observe(outputEl, {childList: true});\n",
              "}}\n",
              "\n",
              "                        })                };                            </script>        </div>\n",
              "</body>\n",
              "</html>"
            ]
          },
          "metadata": {}
        }
      ]
    },
    {
      "cell_type": "markdown",
      "source": [
        "### Visualização 2"
      ],
      "metadata": {
        "id": "9BB4jLSwZE7K"
      }
    },
    {
      "cell_type": "code",
      "source": [
        "mudancas_header = 'Mudancas'\n",
        "\n",
        "def contar_mudancas_regime(pais_mudancas):\n",
        "    pais_mudancas = pais_mudancas.sort_values(ano_header)\n",
        "    qtd_mudancas = (pais_mudancas[regime_politico_header] != pais_mudancas[regime_politico_header].shift(1)).sum() - 1\n",
        "    return qtd_mudancas\n",
        "\n",
        "qtd_mudancas_por_pais = dataset.groupby(cod_pais_header).apply(contar_mudancas_regime).reset_index()\n",
        "qtd_mudancas_por_pais.columns = [cod_pais_header, mudancas_header]\n",
        "\n",
        "print(qtd_mudancas_por_pais.sort_values(ascending=False, by=mudancas_header).head())"
      ],
      "metadata": {
        "colab": {
          "base_uri": "https://localhost:8080/"
        },
        "id": "lLlkvnzsZlt7",
        "outputId": "f720b42b-d0d1-4156-e990-e35682ea8d69"
      },
      "execution_count": 6,
      "outputs": [
        {
          "output_type": "stream",
          "name": "stdout",
          "text": [
            "    CodPais  Mudancas\n",
            "90      LKA         2\n",
            "160     THA         2\n",
            "100     MKD         2\n",
            "65      HND         2\n",
            "26      CHL         2\n"
          ]
        }
      ]
    },
    {
      "cell_type": "code",
      "source": [
        "escala_de_cor = [\n",
        "    [0, 'white'], # 0 mudanças\n",
        "    [1/2, '#c6dbf0'], # 1 mudança\n",
        "    [1, '#6bafd6'] # 2 mudanças\n",
        "]\n",
        "\n",
        "titulo_grafico = \"Mapa de Oscilação Política: Países com Mais Mudanças de Regime de 1980 a 2020.\"\n",
        "projection = 'natural earth'\n",
        "\n",
        "fig = px.choropleth(qtd_mudancas_por_pais,\n",
        "                    locations=cod_pais_header,\n",
        "                    color=mudancas_header,\n",
        "                    hover_name=cod_pais_header,\n",
        "                    color_continuous_scale=escala_de_cor,\n",
        "                    projection=projection,\n",
        "                    title=titulo_grafico)\n",
        "\n",
        "fig.update_layout(coloraxis_colorbar=dict(\n",
        "    tickvals=[0, 1, 2],\n",
        "    ticktext=['Não houve alteração de regime político', '1 Alteração de regime político', '2 Alterações de regime político']\n",
        "))\n",
        "\n",
        "fig.show()"
      ],
      "metadata": {
        "colab": {
          "base_uri": "https://localhost:8080/",
          "height": 542
        },
        "id": "zwaktwJna_lv",
        "outputId": "436813cb-efa9-4900-f27f-7fa8132e7742"
      },
      "execution_count": 7,
      "outputs": [
        {
          "output_type": "display_data",
          "data": {
            "text/html": [
              "<html>\n",
              "<head><meta charset=\"utf-8\" /></head>\n",
              "<body>\n",
              "    <div>            <script src=\"https://cdnjs.cloudflare.com/ajax/libs/mathjax/2.7.5/MathJax.js?config=TeX-AMS-MML_SVG\"></script><script type=\"text/javascript\">if (window.MathJax && window.MathJax.Hub && window.MathJax.Hub.Config) {window.MathJax.Hub.Config({SVG: {font: \"STIX-Web\"}});}</script>                <script type=\"text/javascript\">window.PlotlyConfig = {MathJaxConfig: 'local'};</script>\n",
              "        <script charset=\"utf-8\" src=\"https://cdn.plot.ly/plotly-2.24.1.min.js\"></script>                <div id=\"3fce6607-7297-40ec-bb18-b5382b1ae882\" class=\"plotly-graph-div\" style=\"height:525px; width:100%;\"></div>            <script type=\"text/javascript\">                                    window.PLOTLYENV=window.PLOTLYENV || {};                                    if (document.getElementById(\"3fce6607-7297-40ec-bb18-b5382b1ae882\")) {                    Plotly.newPlot(                        \"3fce6607-7297-40ec-bb18-b5382b1ae882\",                        [{\"coloraxis\":\"coloraxis\",\"geo\":\"geo\",\"hovertemplate\":\"\\u003cb\\u003e%{hovertext}\\u003c\\u002fb\\u003e\\u003cbr\\u003e\\u003cbr\\u003eCodPais=%{location}\\u003cbr\\u003eMudancas=%{z}\\u003cextra\\u003e\\u003c\\u002fextra\\u003e\",\"hovertext\":[\"AFG\",\"AGO\",\"ALB\",\"ARE\",\"ARG\",\"ARM\",\"AUS\",\"AUT\",\"AZE\",\"BDI\",\"BEL\",\"BEN\",\"BFA\",\"BGD\",\"BGR\",\"BHR\",\"BIH\",\"BLR\",\"BOL\",\"BRA\",\"BRB\",\"BTN\",\"BWA\",\"CAF\",\"CAN\",\"CHE\",\"CHL\",\"CHN\",\"CIV\",\"CMR\",\"COD\",\"COG\",\"COL\",\"COM\",\"CPV\",\"CRI\",\"CUB\",\"CYP\",\"CZE\",\"DEU\",\"DJI\",\"DNK\",\"DOM\",\"DZA\",\"ECU\",\"EGY\",\"ERI\",\"ESP\",\"EST\",\"ETH\",\"FIN\",\"FJI\",\"FRA\",\"GAB\",\"GBR\",\"GEO\",\"GHA\",\"GIN\",\"GMB\",\"GNB\",\"GNQ\",\"GRC\",\"GTM\",\"GUY\",\"HKG\",\"HND\",\"HRV\",\"HTI\",\"HUN\",\"IDN\",\"IND\",\"IRL\",\"IRN\",\"IRQ\",\"ISL\",\"ISR\",\"ITA\",\"JAM\",\"JOR\",\"JPN\",\"KAZ\",\"KEN\",\"KGZ\",\"KHM\",\"KOR\",\"KWT\",\"LAO\",\"LBN\",\"LBR\",\"LBY\",\"LKA\",\"LSO\",\"LTU\",\"LUX\",\"LVA\",\"MAR\",\"MDA\",\"MDG\",\"MDV\",\"MEX\",\"MKD\",\"MLI\",\"MLT\",\"MMR\",\"MNE\",\"MNG\",\"MOZ\",\"MRT\",\"MUS\",\"MWI\",\"MYS\",\"NAM\",\"NER\",\"NGA\",\"NIC\",\"NLD\",\"NOR\",\"NPL\",\"NZL\",\"OMN\",\"OWID_GDR\",\"OWID_GFR\",\"OWID_KOS\",\"OWID_SML\",\"OWID_YAR\",\"OWID_YPR\",\"OWID_ZAN\",\"PAK\",\"PAN\",\"PER\",\"PHL\",\"PNG\",\"POL\",\"PRK\",\"PRT\",\"PRY\",\"QAT\",\"ROU\",\"RUS\",\"RWA\",\"SAU\",\"SDN\",\"SEN\",\"SGP\",\"SLB\",\"SLE\",\"SLV\",\"SOM\",\"SRB\",\"SSD\",\"STP\",\"SUR\",\"SVK\",\"SVN\",\"SWE\",\"SWZ\",\"SYC\",\"SYR\",\"TCD\",\"TGO\",\"THA\",\"TJK\",\"TKM\",\"TLS\",\"TTO\",\"TUN\",\"TUR\",\"TWN\",\"TZA\",\"UGA\",\"UKR\",\"URY\",\"USA\",\"UZB\",\"VEN\",\"VNM\",\"VUT\",\"YEM\",\"ZAF\",\"ZMB\",\"ZWE\"],\"locations\":[\"AFG\",\"AGO\",\"ALB\",\"ARE\",\"ARG\",\"ARM\",\"AUS\",\"AUT\",\"AZE\",\"BDI\",\"BEL\",\"BEN\",\"BFA\",\"BGD\",\"BGR\",\"BHR\",\"BIH\",\"BLR\",\"BOL\",\"BRA\",\"BRB\",\"BTN\",\"BWA\",\"CAF\",\"CAN\",\"CHE\",\"CHL\",\"CHN\",\"CIV\",\"CMR\",\"COD\",\"COG\",\"COL\",\"COM\",\"CPV\",\"CRI\",\"CUB\",\"CYP\",\"CZE\",\"DEU\",\"DJI\",\"DNK\",\"DOM\",\"DZA\",\"ECU\",\"EGY\",\"ERI\",\"ESP\",\"EST\",\"ETH\",\"FIN\",\"FJI\",\"FRA\",\"GAB\",\"GBR\",\"GEO\",\"GHA\",\"GIN\",\"GMB\",\"GNB\",\"GNQ\",\"GRC\",\"GTM\",\"GUY\",\"HKG\",\"HND\",\"HRV\",\"HTI\",\"HUN\",\"IDN\",\"IND\",\"IRL\",\"IRN\",\"IRQ\",\"ISL\",\"ISR\",\"ITA\",\"JAM\",\"JOR\",\"JPN\",\"KAZ\",\"KEN\",\"KGZ\",\"KHM\",\"KOR\",\"KWT\",\"LAO\",\"LBN\",\"LBR\",\"LBY\",\"LKA\",\"LSO\",\"LTU\",\"LUX\",\"LVA\",\"MAR\",\"MDA\",\"MDG\",\"MDV\",\"MEX\",\"MKD\",\"MLI\",\"MLT\",\"MMR\",\"MNE\",\"MNG\",\"MOZ\",\"MRT\",\"MUS\",\"MWI\",\"MYS\",\"NAM\",\"NER\",\"NGA\",\"NIC\",\"NLD\",\"NOR\",\"NPL\",\"NZL\",\"OMN\",\"OWID_GDR\",\"OWID_GFR\",\"OWID_KOS\",\"OWID_SML\",\"OWID_YAR\",\"OWID_YPR\",\"OWID_ZAN\",\"PAK\",\"PAN\",\"PER\",\"PHL\",\"PNG\",\"POL\",\"PRK\",\"PRT\",\"PRY\",\"QAT\",\"ROU\",\"RUS\",\"RWA\",\"SAU\",\"SDN\",\"SEN\",\"SGP\",\"SLB\",\"SLE\",\"SLV\",\"SOM\",\"SRB\",\"SSD\",\"STP\",\"SUR\",\"SVK\",\"SVN\",\"SWE\",\"SWZ\",\"SYC\",\"SYR\",\"TCD\",\"TGO\",\"THA\",\"TJK\",\"TKM\",\"TLS\",\"TTO\",\"TUN\",\"TUR\",\"TWN\",\"TZA\",\"UGA\",\"UKR\",\"URY\",\"USA\",\"UZB\",\"VEN\",\"VNM\",\"VUT\",\"YEM\",\"ZAF\",\"ZMB\",\"ZWE\"],\"name\":\"\",\"z\":[1,1,2,0,1,2,0,0,1,1,0,2,1,2,1,0,1,1,2,1,1,1,1,1,1,0,2,0,1,0,1,1,1,1,1,1,0,1,2,0,0,0,1,1,0,0,0,1,1,1,0,2,0,1,0,2,0,1,0,2,1,0,1,1,0,2,1,0,2,1,1,0,1,1,0,0,0,0,0,0,1,0,1,1,1,1,0,0,2,0,2,1,2,0,2,0,1,1,1,1,2,2,0,1,0,1,1,1,2,1,0,1,1,1,2,0,0,2,0,0,0,0,1,1,0,0,1,1,1,1,2,1,2,0,0,1,0,1,1,1,0,1,1,0,2,2,1,0,1,1,1,1,2,1,0,0,1,1,1,0,2,1,1,1,1,1,2,1,0,0,2,1,0,1,1,1,0,1,2,0,0],\"type\":\"choropleth\"}],                        {\"template\":{\"data\":{\"histogram2dcontour\":[{\"type\":\"histogram2dcontour\",\"colorbar\":{\"outlinewidth\":0,\"ticks\":\"\"},\"colorscale\":[[0.0,\"#0d0887\"],[0.1111111111111111,\"#46039f\"],[0.2222222222222222,\"#7201a8\"],[0.3333333333333333,\"#9c179e\"],[0.4444444444444444,\"#bd3786\"],[0.5555555555555556,\"#d8576b\"],[0.6666666666666666,\"#ed7953\"],[0.7777777777777778,\"#fb9f3a\"],[0.8888888888888888,\"#fdca26\"],[1.0,\"#f0f921\"]]}],\"choropleth\":[{\"type\":\"choropleth\",\"colorbar\":{\"outlinewidth\":0,\"ticks\":\"\"}}],\"histogram2d\":[{\"type\":\"histogram2d\",\"colorbar\":{\"outlinewidth\":0,\"ticks\":\"\"},\"colorscale\":[[0.0,\"#0d0887\"],[0.1111111111111111,\"#46039f\"],[0.2222222222222222,\"#7201a8\"],[0.3333333333333333,\"#9c179e\"],[0.4444444444444444,\"#bd3786\"],[0.5555555555555556,\"#d8576b\"],[0.6666666666666666,\"#ed7953\"],[0.7777777777777778,\"#fb9f3a\"],[0.8888888888888888,\"#fdca26\"],[1.0,\"#f0f921\"]]}],\"heatmap\":[{\"type\":\"heatmap\",\"colorbar\":{\"outlinewidth\":0,\"ticks\":\"\"},\"colorscale\":[[0.0,\"#0d0887\"],[0.1111111111111111,\"#46039f\"],[0.2222222222222222,\"#7201a8\"],[0.3333333333333333,\"#9c179e\"],[0.4444444444444444,\"#bd3786\"],[0.5555555555555556,\"#d8576b\"],[0.6666666666666666,\"#ed7953\"],[0.7777777777777778,\"#fb9f3a\"],[0.8888888888888888,\"#fdca26\"],[1.0,\"#f0f921\"]]}],\"heatmapgl\":[{\"type\":\"heatmapgl\",\"colorbar\":{\"outlinewidth\":0,\"ticks\":\"\"},\"colorscale\":[[0.0,\"#0d0887\"],[0.1111111111111111,\"#46039f\"],[0.2222222222222222,\"#7201a8\"],[0.3333333333333333,\"#9c179e\"],[0.4444444444444444,\"#bd3786\"],[0.5555555555555556,\"#d8576b\"],[0.6666666666666666,\"#ed7953\"],[0.7777777777777778,\"#fb9f3a\"],[0.8888888888888888,\"#fdca26\"],[1.0,\"#f0f921\"]]}],\"contourcarpet\":[{\"type\":\"contourcarpet\",\"colorbar\":{\"outlinewidth\":0,\"ticks\":\"\"}}],\"contour\":[{\"type\":\"contour\",\"colorbar\":{\"outlinewidth\":0,\"ticks\":\"\"},\"colorscale\":[[0.0,\"#0d0887\"],[0.1111111111111111,\"#46039f\"],[0.2222222222222222,\"#7201a8\"],[0.3333333333333333,\"#9c179e\"],[0.4444444444444444,\"#bd3786\"],[0.5555555555555556,\"#d8576b\"],[0.6666666666666666,\"#ed7953\"],[0.7777777777777778,\"#fb9f3a\"],[0.8888888888888888,\"#fdca26\"],[1.0,\"#f0f921\"]]}],\"surface\":[{\"type\":\"surface\",\"colorbar\":{\"outlinewidth\":0,\"ticks\":\"\"},\"colorscale\":[[0.0,\"#0d0887\"],[0.1111111111111111,\"#46039f\"],[0.2222222222222222,\"#7201a8\"],[0.3333333333333333,\"#9c179e\"],[0.4444444444444444,\"#bd3786\"],[0.5555555555555556,\"#d8576b\"],[0.6666666666666666,\"#ed7953\"],[0.7777777777777778,\"#fb9f3a\"],[0.8888888888888888,\"#fdca26\"],[1.0,\"#f0f921\"]]}],\"mesh3d\":[{\"type\":\"mesh3d\",\"colorbar\":{\"outlinewidth\":0,\"ticks\":\"\"}}],\"scatter\":[{\"fillpattern\":{\"fillmode\":\"overlay\",\"size\":10,\"solidity\":0.2},\"type\":\"scatter\"}],\"parcoords\":[{\"type\":\"parcoords\",\"line\":{\"colorbar\":{\"outlinewidth\":0,\"ticks\":\"\"}}}],\"scatterpolargl\":[{\"type\":\"scatterpolargl\",\"marker\":{\"colorbar\":{\"outlinewidth\":0,\"ticks\":\"\"}}}],\"bar\":[{\"error_x\":{\"color\":\"#2a3f5f\"},\"error_y\":{\"color\":\"#2a3f5f\"},\"marker\":{\"line\":{\"color\":\"#E5ECF6\",\"width\":0.5},\"pattern\":{\"fillmode\":\"overlay\",\"size\":10,\"solidity\":0.2}},\"type\":\"bar\"}],\"scattergeo\":[{\"type\":\"scattergeo\",\"marker\":{\"colorbar\":{\"outlinewidth\":0,\"ticks\":\"\"}}}],\"scatterpolar\":[{\"type\":\"scatterpolar\",\"marker\":{\"colorbar\":{\"outlinewidth\":0,\"ticks\":\"\"}}}],\"histogram\":[{\"marker\":{\"pattern\":{\"fillmode\":\"overlay\",\"size\":10,\"solidity\":0.2}},\"type\":\"histogram\"}],\"scattergl\":[{\"type\":\"scattergl\",\"marker\":{\"colorbar\":{\"outlinewidth\":0,\"ticks\":\"\"}}}],\"scatter3d\":[{\"type\":\"scatter3d\",\"line\":{\"colorbar\":{\"outlinewidth\":0,\"ticks\":\"\"}},\"marker\":{\"colorbar\":{\"outlinewidth\":0,\"ticks\":\"\"}}}],\"scattermapbox\":[{\"type\":\"scattermapbox\",\"marker\":{\"colorbar\":{\"outlinewidth\":0,\"ticks\":\"\"}}}],\"scatterternary\":[{\"type\":\"scatterternary\",\"marker\":{\"colorbar\":{\"outlinewidth\":0,\"ticks\":\"\"}}}],\"scattercarpet\":[{\"type\":\"scattercarpet\",\"marker\":{\"colorbar\":{\"outlinewidth\":0,\"ticks\":\"\"}}}],\"carpet\":[{\"aaxis\":{\"endlinecolor\":\"#2a3f5f\",\"gridcolor\":\"white\",\"linecolor\":\"white\",\"minorgridcolor\":\"white\",\"startlinecolor\":\"#2a3f5f\"},\"baxis\":{\"endlinecolor\":\"#2a3f5f\",\"gridcolor\":\"white\",\"linecolor\":\"white\",\"minorgridcolor\":\"white\",\"startlinecolor\":\"#2a3f5f\"},\"type\":\"carpet\"}],\"table\":[{\"cells\":{\"fill\":{\"color\":\"#EBF0F8\"},\"line\":{\"color\":\"white\"}},\"header\":{\"fill\":{\"color\":\"#C8D4E3\"},\"line\":{\"color\":\"white\"}},\"type\":\"table\"}],\"barpolar\":[{\"marker\":{\"line\":{\"color\":\"#E5ECF6\",\"width\":0.5},\"pattern\":{\"fillmode\":\"overlay\",\"size\":10,\"solidity\":0.2}},\"type\":\"barpolar\"}],\"pie\":[{\"automargin\":true,\"type\":\"pie\"}]},\"layout\":{\"autotypenumbers\":\"strict\",\"colorway\":[\"#636efa\",\"#EF553B\",\"#00cc96\",\"#ab63fa\",\"#FFA15A\",\"#19d3f3\",\"#FF6692\",\"#B6E880\",\"#FF97FF\",\"#FECB52\"],\"font\":{\"color\":\"#2a3f5f\"},\"hovermode\":\"closest\",\"hoverlabel\":{\"align\":\"left\"},\"paper_bgcolor\":\"white\",\"plot_bgcolor\":\"#E5ECF6\",\"polar\":{\"bgcolor\":\"#E5ECF6\",\"angularaxis\":{\"gridcolor\":\"white\",\"linecolor\":\"white\",\"ticks\":\"\"},\"radialaxis\":{\"gridcolor\":\"white\",\"linecolor\":\"white\",\"ticks\":\"\"}},\"ternary\":{\"bgcolor\":\"#E5ECF6\",\"aaxis\":{\"gridcolor\":\"white\",\"linecolor\":\"white\",\"ticks\":\"\"},\"baxis\":{\"gridcolor\":\"white\",\"linecolor\":\"white\",\"ticks\":\"\"},\"caxis\":{\"gridcolor\":\"white\",\"linecolor\":\"white\",\"ticks\":\"\"}},\"coloraxis\":{\"colorbar\":{\"outlinewidth\":0,\"ticks\":\"\"}},\"colorscale\":{\"sequential\":[[0.0,\"#0d0887\"],[0.1111111111111111,\"#46039f\"],[0.2222222222222222,\"#7201a8\"],[0.3333333333333333,\"#9c179e\"],[0.4444444444444444,\"#bd3786\"],[0.5555555555555556,\"#d8576b\"],[0.6666666666666666,\"#ed7953\"],[0.7777777777777778,\"#fb9f3a\"],[0.8888888888888888,\"#fdca26\"],[1.0,\"#f0f921\"]],\"sequentialminus\":[[0.0,\"#0d0887\"],[0.1111111111111111,\"#46039f\"],[0.2222222222222222,\"#7201a8\"],[0.3333333333333333,\"#9c179e\"],[0.4444444444444444,\"#bd3786\"],[0.5555555555555556,\"#d8576b\"],[0.6666666666666666,\"#ed7953\"],[0.7777777777777778,\"#fb9f3a\"],[0.8888888888888888,\"#fdca26\"],[1.0,\"#f0f921\"]],\"diverging\":[[0,\"#8e0152\"],[0.1,\"#c51b7d\"],[0.2,\"#de77ae\"],[0.3,\"#f1b6da\"],[0.4,\"#fde0ef\"],[0.5,\"#f7f7f7\"],[0.6,\"#e6f5d0\"],[0.7,\"#b8e186\"],[0.8,\"#7fbc41\"],[0.9,\"#4d9221\"],[1,\"#276419\"]]},\"xaxis\":{\"gridcolor\":\"white\",\"linecolor\":\"white\",\"ticks\":\"\",\"title\":{\"standoff\":15},\"zerolinecolor\":\"white\",\"automargin\":true,\"zerolinewidth\":2},\"yaxis\":{\"gridcolor\":\"white\",\"linecolor\":\"white\",\"ticks\":\"\",\"title\":{\"standoff\":15},\"zerolinecolor\":\"white\",\"automargin\":true,\"zerolinewidth\":2},\"scene\":{\"xaxis\":{\"backgroundcolor\":\"#E5ECF6\",\"gridcolor\":\"white\",\"linecolor\":\"white\",\"showbackground\":true,\"ticks\":\"\",\"zerolinecolor\":\"white\",\"gridwidth\":2},\"yaxis\":{\"backgroundcolor\":\"#E5ECF6\",\"gridcolor\":\"white\",\"linecolor\":\"white\",\"showbackground\":true,\"ticks\":\"\",\"zerolinecolor\":\"white\",\"gridwidth\":2},\"zaxis\":{\"backgroundcolor\":\"#E5ECF6\",\"gridcolor\":\"white\",\"linecolor\":\"white\",\"showbackground\":true,\"ticks\":\"\",\"zerolinecolor\":\"white\",\"gridwidth\":2}},\"shapedefaults\":{\"line\":{\"color\":\"#2a3f5f\"}},\"annotationdefaults\":{\"arrowcolor\":\"#2a3f5f\",\"arrowhead\":0,\"arrowwidth\":1},\"geo\":{\"bgcolor\":\"white\",\"landcolor\":\"#E5ECF6\",\"subunitcolor\":\"white\",\"showland\":true,\"showlakes\":true,\"lakecolor\":\"white\"},\"title\":{\"x\":0.05},\"mapbox\":{\"style\":\"light\"}}},\"geo\":{\"domain\":{\"x\":[0.0,1.0],\"y\":[0.0,1.0]},\"projection\":{\"type\":\"natural earth\"},\"center\":{}},\"coloraxis\":{\"colorbar\":{\"title\":{\"text\":\"Mudancas\"},\"tickvals\":[0,1,2],\"ticktext\":[\"N\\u00e3o houve altera\\u00e7\\u00e3o de regime pol\\u00edtico\",\"1 Altera\\u00e7\\u00e3o de regime pol\\u00edtico\",\"2 Altera\\u00e7\\u00f5es de regime pol\\u00edtico\"]},\"colorscale\":[[0,\"white\"],[0.5,\"#c6dbf0\"],[1,\"#6bafd6\"]]},\"legend\":{\"tracegroupgap\":0},\"title\":{\"text\":\"Mapa de Oscila\\u00e7\\u00e3o Pol\\u00edtica: Pa\\u00edses com Mais Mudan\\u00e7as de Regime de 1980 a 2020.\"}},                        {\"responsive\": true}                    ).then(function(){\n",
              "                            \n",
              "var gd = document.getElementById('3fce6607-7297-40ec-bb18-b5382b1ae882');\n",
              "var x = new MutationObserver(function (mutations, observer) {{\n",
              "        var display = window.getComputedStyle(gd).display;\n",
              "        if (!display || display === 'none') {{\n",
              "            console.log([gd, 'removed!']);\n",
              "            Plotly.purge(gd);\n",
              "            observer.disconnect();\n",
              "        }}\n",
              "}});\n",
              "\n",
              "// Listen for the removal of the full notebook cells\n",
              "var notebookContainer = gd.closest('#notebook-container');\n",
              "if (notebookContainer) {{\n",
              "    x.observe(notebookContainer, {childList: true});\n",
              "}}\n",
              "\n",
              "// Listen for the clearing of the current output cell\n",
              "var outputEl = gd.closest('.output');\n",
              "if (outputEl) {{\n",
              "    x.observe(outputEl, {childList: true});\n",
              "}}\n",
              "\n",
              "                        })                };                            </script>        </div>\n",
              "</body>\n",
              "</html>"
            ]
          },
          "metadata": {}
        }
      ]
    }
  ],
  "metadata": {
    "colab": {
      "provenance": [],
      "collapsed_sections": [
        "qVYHvIkxMwYZ"
      ]
    },
    "language_info": {
      "name": "python"
    },
    "kernelspec": {
      "name": "python3",
      "display_name": "Python 3"
    }
  },
  "nbformat": 4,
  "nbformat_minor": 0
}